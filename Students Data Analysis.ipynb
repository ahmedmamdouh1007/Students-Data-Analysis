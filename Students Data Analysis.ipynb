{
 "cells": [
  {
   "cell_type": "markdown",
   "id": "4c715045",
   "metadata": {},
   "source": [
    "# About the Data\n",
    "Some of the original structure are deleted or censored. For those are left:\n",
    "Basic data like:\n",
    " \n",
    "\n",
    "class: categorical, initially students were divided into 2 classes, yet teachers suspect that of different classes students may performance significant differently.\n",
    "\n",
    "\n",
    "race: categorical and censored\n",
    "\n",
    "GPA: real numbers, float\n",
    "\n",
    "Some teachers assume that scores of math curriculums can represent one's likelihood perfectly:\n",
    "\n",
    "Algebra: real numbers, Advanced Algebra\n",
    "……\n",
    "\n",
    "Some assume that background of students can affect their choices and likelihood significantly, which are all censored as:\n",
    "\n",
    "from1: students' home locations\n",
    "\n",
    "from2: a probably bad indicator for preference on mathematics\n",
    "\n",
    "from 3: how did students apply for this university (undergraduate)\n",
    "\n",
    "from4: a probably bad indicator for family background. 0 with more wealth, 4 with more poverty\n",
    "\n",
    "The final indicator y:\n",
    "0, one fails to apply for the graduate school, who may apply again or search jobs in the future\n",
    "1, success, inland\n",
    "2, success, abroad"
   ]
  },
  {
   "cell_type": "code",
   "execution_count": 17,
   "id": "5f399fba",
   "metadata": {},
   "outputs": [],
   "source": [
    "import pandas as pd \n",
    "import numpy as np \n",
    "import matplotlib.pyplot as plt\n",
    "%matplotlib inline \n",
    "import seaborn as sns "
   ]
  },
  {
   "cell_type": "code",
   "execution_count": 18,
   "id": "3d004da6",
   "metadata": {},
   "outputs": [],
   "source": [
    "df= pd.read_csv(\"Students data.csv\")"
   ]
  },
  {
   "cell_type": "code",
   "execution_count": 19,
   "id": "c97e79e4",
   "metadata": {
    "scrolled": true
   },
   "outputs": [
    {
     "data": {
      "text/html": [
       "<div>\n",
       "<style scoped>\n",
       "    .dataframe tbody tr th:only-of-type {\n",
       "        vertical-align: middle;\n",
       "    }\n",
       "\n",
       "    .dataframe tbody tr th {\n",
       "        vertical-align: top;\n",
       "    }\n",
       "\n",
       "    .dataframe thead th {\n",
       "        text-align: right;\n",
       "    }\n",
       "</style>\n",
       "<table border=\"1\" class=\"dataframe\">\n",
       "  <thead>\n",
       "    <tr style=\"text-align: right;\">\n",
       "      <th></th>\n",
       "      <th>ID</th>\n",
       "      <th>class</th>\n",
       "      <th>gender</th>\n",
       "      <th>race</th>\n",
       "      <th>GPA</th>\n",
       "      <th>Algebra</th>\n",
       "      <th>Calculus1</th>\n",
       "      <th>Calculus2</th>\n",
       "      <th>Statistics</th>\n",
       "      <th>Probability</th>\n",
       "      <th>Measure</th>\n",
       "      <th>Functional_analysis</th>\n",
       "      <th>from1</th>\n",
       "      <th>from2</th>\n",
       "      <th>from3</th>\n",
       "      <th>from4</th>\n",
       "      <th>y</th>\n",
       "    </tr>\n",
       "  </thead>\n",
       "  <tbody>\n",
       "    <tr>\n",
       "      <th>0</th>\n",
       "      <td>1141</td>\n",
       "      <td>A</td>\n",
       "      <td>male</td>\n",
       "      <td>1</td>\n",
       "      <td>73.47</td>\n",
       "      <td>64</td>\n",
       "      <td>81</td>\n",
       "      <td>87</td>\n",
       "      <td>60</td>\n",
       "      <td>74</td>\n",
       "      <td>71</td>\n",
       "      <td>60</td>\n",
       "      <td>A</td>\n",
       "      <td>A</td>\n",
       "      <td>A</td>\n",
       "      <td>3</td>\n",
       "      <td>0</td>\n",
       "    </tr>\n",
       "    <tr>\n",
       "      <th>1</th>\n",
       "      <td>1142</td>\n",
       "      <td>A</td>\n",
       "      <td>female</td>\n",
       "      <td>1</td>\n",
       "      <td>71.22</td>\n",
       "      <td>57</td>\n",
       "      <td>50</td>\n",
       "      <td>51</td>\n",
       "      <td>51</td>\n",
       "      <td>55</td>\n",
       "      <td>62</td>\n",
       "      <td>61</td>\n",
       "      <td>B</td>\n",
       "      <td>A</td>\n",
       "      <td>A</td>\n",
       "      <td>2</td>\n",
       "      <td>0</td>\n",
       "    </tr>\n",
       "    <tr>\n",
       "      <th>2</th>\n",
       "      <td>1143</td>\n",
       "      <td>A</td>\n",
       "      <td>female</td>\n",
       "      <td>2</td>\n",
       "      <td>74.56</td>\n",
       "      <td>47</td>\n",
       "      <td>48</td>\n",
       "      <td>71</td>\n",
       "      <td>60</td>\n",
       "      <td>61</td>\n",
       "      <td>68</td>\n",
       "      <td>64</td>\n",
       "      <td>C</td>\n",
       "      <td>A</td>\n",
       "      <td>A</td>\n",
       "      <td>0</td>\n",
       "      <td>1</td>\n",
       "    </tr>\n",
       "    <tr>\n",
       "      <th>3</th>\n",
       "      <td>1144</td>\n",
       "      <td>A</td>\n",
       "      <td>female</td>\n",
       "      <td>1</td>\n",
       "      <td>72.89</td>\n",
       "      <td>46</td>\n",
       "      <td>72</td>\n",
       "      <td>38</td>\n",
       "      <td>60</td>\n",
       "      <td>29</td>\n",
       "      <td>54</td>\n",
       "      <td>51</td>\n",
       "      <td>D</td>\n",
       "      <td>A</td>\n",
       "      <td>A</td>\n",
       "      <td>0</td>\n",
       "      <td>0</td>\n",
       "    </tr>\n",
       "    <tr>\n",
       "      <th>4</th>\n",
       "      <td>1145</td>\n",
       "      <td>A</td>\n",
       "      <td>female</td>\n",
       "      <td>1</td>\n",
       "      <td>70.11</td>\n",
       "      <td>49</td>\n",
       "      <td>45</td>\n",
       "      <td>63</td>\n",
       "      <td>60</td>\n",
       "      <td>66</td>\n",
       "      <td>66</td>\n",
       "      <td>61</td>\n",
       "      <td>E</td>\n",
       "      <td>A</td>\n",
       "      <td>A</td>\n",
       "      <td>0</td>\n",
       "      <td>0</td>\n",
       "    </tr>\n",
       "  </tbody>\n",
       "</table>\n",
       "</div>"
      ],
      "text/plain": [
       "     ID class  gender  race    GPA  Algebra  Calculus1  Calculus2  Statistics  \\\n",
       "0  1141     A    male     1  73.47       64         81         87          60   \n",
       "1  1142     A  female     1  71.22       57         50         51          51   \n",
       "2  1143     A  female     2  74.56       47         48         71          60   \n",
       "3  1144     A  female     1  72.89       46         72         38          60   \n",
       "4  1145     A  female     1  70.11       49         45         63          60   \n",
       "\n",
       "   Probability  Measure  Functional_analysis from1 from2 from3  from4  y  \n",
       "0           74       71                   60     A     A     A      3  0  \n",
       "1           55       62                   61     B     A     A      2  0  \n",
       "2           61       68                   64     C     A     A      0  1  \n",
       "3           29       54                   51     D     A     A      0  0  \n",
       "4           66       66                   61     E     A     A      0  0  "
      ]
     },
     "execution_count": 19,
     "metadata": {},
     "output_type": "execute_result"
    }
   ],
   "source": [
    "df.head()"
   ]
  },
  {
   "cell_type": "markdown",
   "id": "bcba9f14",
   "metadata": {},
   "source": [
    "# Cleaning Data"
   ]
  },
  {
   "cell_type": "code",
   "execution_count": 20,
   "id": "2e372bcd",
   "metadata": {},
   "outputs": [
    {
     "data": {
      "text/plain": [
       "(105, 17)"
      ]
     },
     "execution_count": 20,
     "metadata": {},
     "output_type": "execute_result"
    }
   ],
   "source": [
    "df.shape"
   ]
  },
  {
   "cell_type": "code",
   "execution_count": 21,
   "id": "30921e60",
   "metadata": {},
   "outputs": [
    {
     "data": {
      "text/plain": [
       "A    81\n",
       "D    10\n",
       "S     6\n",
       "C     4\n",
       "B     4\n",
       "Name: from3, dtype: int64"
      ]
     },
     "execution_count": 21,
     "metadata": {},
     "output_type": "execute_result"
    }
   ],
   "source": [
    "df[\"from3\"].value_counts()"
   ]
  },
  {
   "cell_type": "code",
   "execution_count": 22,
   "id": "e0d9518f",
   "metadata": {},
   "outputs": [
    {
     "data": {
      "text/plain": [
       "1    81\n",
       "3     6\n",
       "7     5\n",
       "4     4\n",
       "5     4\n",
       "2     3\n",
       "6     2\n",
       "Name: race, dtype: int64"
      ]
     },
     "execution_count": 22,
     "metadata": {},
     "output_type": "execute_result"
    }
   ],
   "source": [
    "df[\"race\"].value_counts()"
   ]
  },
  {
   "cell_type": "code",
   "execution_count": 23,
   "id": "6fe28441",
   "metadata": {},
   "outputs": [
    {
     "name": "stdout",
     "output_type": "stream",
     "text": [
      "<class 'pandas.core.frame.DataFrame'>\n",
      "RangeIndex: 105 entries, 0 to 104\n",
      "Data columns (total 17 columns):\n",
      " #   Column               Non-Null Count  Dtype  \n",
      "---  ------               --------------  -----  \n",
      " 0   ID                   105 non-null    int64  \n",
      " 1   class                105 non-null    object \n",
      " 2   gender               105 non-null    object \n",
      " 3   race                 105 non-null    int64  \n",
      " 4   GPA                  105 non-null    float64\n",
      " 5   Algebra              105 non-null    int64  \n",
      " 6   Calculus1            105 non-null    int64  \n",
      " 7   Calculus2            105 non-null    int64  \n",
      " 8   Statistics           105 non-null    int64  \n",
      " 9   Probability          105 non-null    int64  \n",
      " 10  Measure              105 non-null    int64  \n",
      " 11  Functional_analysis  105 non-null    int64  \n",
      " 12  from1                105 non-null    object \n",
      " 13  from2                105 non-null    object \n",
      " 14  from3                105 non-null    object \n",
      " 15  from4                105 non-null    int64  \n",
      " 16  y                    105 non-null    int64  \n",
      "dtypes: float64(1), int64(11), object(5)\n",
      "memory usage: 14.1+ KB\n"
     ]
    }
   ],
   "source": [
    "df.info()"
   ]
  },
  {
   "cell_type": "code",
   "execution_count": 24,
   "id": "5f296475",
   "metadata": {},
   "outputs": [
    {
     "data": {
      "text/plain": [
       "0"
      ]
     },
     "execution_count": 24,
     "metadata": {},
     "output_type": "execute_result"
    }
   ],
   "source": [
    "df.duplicated().sum()"
   ]
  },
  {
   "cell_type": "code",
   "execution_count": 25,
   "id": "7eb9dbee",
   "metadata": {},
   "outputs": [],
   "source": [
    "df[\"Calculus1\"] = (df.Calculus1 + df.Calculus2)/2"
   ]
  },
  {
   "cell_type": "code",
   "execution_count": 26,
   "id": "a0d645e5",
   "metadata": {},
   "outputs": [
    {
     "data": {
      "text/html": [
       "<div>\n",
       "<style scoped>\n",
       "    .dataframe tbody tr th:only-of-type {\n",
       "        vertical-align: middle;\n",
       "    }\n",
       "\n",
       "    .dataframe tbody tr th {\n",
       "        vertical-align: top;\n",
       "    }\n",
       "\n",
       "    .dataframe thead th {\n",
       "        text-align: right;\n",
       "    }\n",
       "</style>\n",
       "<table border=\"1\" class=\"dataframe\">\n",
       "  <thead>\n",
       "    <tr style=\"text-align: right;\">\n",
       "      <th></th>\n",
       "      <th>ID</th>\n",
       "      <th>class</th>\n",
       "      <th>gender</th>\n",
       "      <th>race</th>\n",
       "      <th>GPA</th>\n",
       "      <th>Algebra</th>\n",
       "      <th>Calculus1</th>\n",
       "      <th>Calculus2</th>\n",
       "      <th>Statistics</th>\n",
       "      <th>Probability</th>\n",
       "      <th>Measure</th>\n",
       "      <th>Functional_analysis</th>\n",
       "      <th>from1</th>\n",
       "      <th>from2</th>\n",
       "      <th>from3</th>\n",
       "      <th>from4</th>\n",
       "      <th>y</th>\n",
       "    </tr>\n",
       "  </thead>\n",
       "  <tbody>\n",
       "    <tr>\n",
       "      <th>0</th>\n",
       "      <td>1141</td>\n",
       "      <td>A</td>\n",
       "      <td>male</td>\n",
       "      <td>1</td>\n",
       "      <td>73.47</td>\n",
       "      <td>64</td>\n",
       "      <td>84.0</td>\n",
       "      <td>87</td>\n",
       "      <td>60</td>\n",
       "      <td>74</td>\n",
       "      <td>71</td>\n",
       "      <td>60</td>\n",
       "      <td>A</td>\n",
       "      <td>A</td>\n",
       "      <td>A</td>\n",
       "      <td>3</td>\n",
       "      <td>0</td>\n",
       "    </tr>\n",
       "    <tr>\n",
       "      <th>1</th>\n",
       "      <td>1142</td>\n",
       "      <td>A</td>\n",
       "      <td>female</td>\n",
       "      <td>1</td>\n",
       "      <td>71.22</td>\n",
       "      <td>57</td>\n",
       "      <td>50.5</td>\n",
       "      <td>51</td>\n",
       "      <td>51</td>\n",
       "      <td>55</td>\n",
       "      <td>62</td>\n",
       "      <td>61</td>\n",
       "      <td>B</td>\n",
       "      <td>A</td>\n",
       "      <td>A</td>\n",
       "      <td>2</td>\n",
       "      <td>0</td>\n",
       "    </tr>\n",
       "    <tr>\n",
       "      <th>2</th>\n",
       "      <td>1143</td>\n",
       "      <td>A</td>\n",
       "      <td>female</td>\n",
       "      <td>2</td>\n",
       "      <td>74.56</td>\n",
       "      <td>47</td>\n",
       "      <td>59.5</td>\n",
       "      <td>71</td>\n",
       "      <td>60</td>\n",
       "      <td>61</td>\n",
       "      <td>68</td>\n",
       "      <td>64</td>\n",
       "      <td>C</td>\n",
       "      <td>A</td>\n",
       "      <td>A</td>\n",
       "      <td>0</td>\n",
       "      <td>1</td>\n",
       "    </tr>\n",
       "    <tr>\n",
       "      <th>3</th>\n",
       "      <td>1144</td>\n",
       "      <td>A</td>\n",
       "      <td>female</td>\n",
       "      <td>1</td>\n",
       "      <td>72.89</td>\n",
       "      <td>46</td>\n",
       "      <td>55.0</td>\n",
       "      <td>38</td>\n",
       "      <td>60</td>\n",
       "      <td>29</td>\n",
       "      <td>54</td>\n",
       "      <td>51</td>\n",
       "      <td>D</td>\n",
       "      <td>A</td>\n",
       "      <td>A</td>\n",
       "      <td>0</td>\n",
       "      <td>0</td>\n",
       "    </tr>\n",
       "    <tr>\n",
       "      <th>4</th>\n",
       "      <td>1145</td>\n",
       "      <td>A</td>\n",
       "      <td>female</td>\n",
       "      <td>1</td>\n",
       "      <td>70.11</td>\n",
       "      <td>49</td>\n",
       "      <td>54.0</td>\n",
       "      <td>63</td>\n",
       "      <td>60</td>\n",
       "      <td>66</td>\n",
       "      <td>66</td>\n",
       "      <td>61</td>\n",
       "      <td>E</td>\n",
       "      <td>A</td>\n",
       "      <td>A</td>\n",
       "      <td>0</td>\n",
       "      <td>0</td>\n",
       "    </tr>\n",
       "  </tbody>\n",
       "</table>\n",
       "</div>"
      ],
      "text/plain": [
       "     ID class  gender  race    GPA  Algebra  Calculus1  Calculus2  Statistics  \\\n",
       "0  1141     A    male     1  73.47       64       84.0         87          60   \n",
       "1  1142     A  female     1  71.22       57       50.5         51          51   \n",
       "2  1143     A  female     2  74.56       47       59.5         71          60   \n",
       "3  1144     A  female     1  72.89       46       55.0         38          60   \n",
       "4  1145     A  female     1  70.11       49       54.0         63          60   \n",
       "\n",
       "   Probability  Measure  Functional_analysis from1 from2 from3  from4  y  \n",
       "0           74       71                   60     A     A     A      3  0  \n",
       "1           55       62                   61     B     A     A      2  0  \n",
       "2           61       68                   64     C     A     A      0  1  \n",
       "3           29       54                   51     D     A     A      0  0  \n",
       "4           66       66                   61     E     A     A      0  0  "
      ]
     },
     "execution_count": 26,
     "metadata": {},
     "output_type": "execute_result"
    }
   ],
   "source": [
    "df.head()"
   ]
  },
  {
   "cell_type": "code",
   "execution_count": 27,
   "id": "38a55f47",
   "metadata": {},
   "outputs": [],
   "source": [
    "df.drop(columns=[\"ID\" , \"race\" , \"from1\" , \"from2\" , \"from3\" , \"Calculus2\"],inplace=True)"
   ]
  },
  {
   "cell_type": "code",
   "execution_count": 28,
   "id": "5a8a66e7",
   "metadata": {},
   "outputs": [],
   "source": [
    "df.rename(columns={\"y\":\"gradute\" ,\"Calculus1\":\"TotleCalculus\" , \"from4\":\"cash_status\"} , inplace=True)"
   ]
  },
  {
   "cell_type": "code",
   "execution_count": 29,
   "id": "2421121c",
   "metadata": {},
   "outputs": [
    {
     "data": {
      "text/html": [
       "<div>\n",
       "<style scoped>\n",
       "    .dataframe tbody tr th:only-of-type {\n",
       "        vertical-align: middle;\n",
       "    }\n",
       "\n",
       "    .dataframe tbody tr th {\n",
       "        vertical-align: top;\n",
       "    }\n",
       "\n",
       "    .dataframe thead th {\n",
       "        text-align: right;\n",
       "    }\n",
       "</style>\n",
       "<table border=\"1\" class=\"dataframe\">\n",
       "  <thead>\n",
       "    <tr style=\"text-align: right;\">\n",
       "      <th></th>\n",
       "      <th>class</th>\n",
       "      <th>gender</th>\n",
       "      <th>GPA</th>\n",
       "      <th>Algebra</th>\n",
       "      <th>TotleCalculus</th>\n",
       "      <th>Statistics</th>\n",
       "      <th>Probability</th>\n",
       "      <th>Measure</th>\n",
       "      <th>Functional_analysis</th>\n",
       "      <th>cash_status</th>\n",
       "      <th>gradute</th>\n",
       "    </tr>\n",
       "  </thead>\n",
       "  <tbody>\n",
       "    <tr>\n",
       "      <th>0</th>\n",
       "      <td>A</td>\n",
       "      <td>male</td>\n",
       "      <td>73.47</td>\n",
       "      <td>64</td>\n",
       "      <td>84.0</td>\n",
       "      <td>60</td>\n",
       "      <td>74</td>\n",
       "      <td>71</td>\n",
       "      <td>60</td>\n",
       "      <td>3</td>\n",
       "      <td>0</td>\n",
       "    </tr>\n",
       "    <tr>\n",
       "      <th>1</th>\n",
       "      <td>A</td>\n",
       "      <td>female</td>\n",
       "      <td>71.22</td>\n",
       "      <td>57</td>\n",
       "      <td>50.5</td>\n",
       "      <td>51</td>\n",
       "      <td>55</td>\n",
       "      <td>62</td>\n",
       "      <td>61</td>\n",
       "      <td>2</td>\n",
       "      <td>0</td>\n",
       "    </tr>\n",
       "    <tr>\n",
       "      <th>2</th>\n",
       "      <td>A</td>\n",
       "      <td>female</td>\n",
       "      <td>74.56</td>\n",
       "      <td>47</td>\n",
       "      <td>59.5</td>\n",
       "      <td>60</td>\n",
       "      <td>61</td>\n",
       "      <td>68</td>\n",
       "      <td>64</td>\n",
       "      <td>0</td>\n",
       "      <td>1</td>\n",
       "    </tr>\n",
       "    <tr>\n",
       "      <th>3</th>\n",
       "      <td>A</td>\n",
       "      <td>female</td>\n",
       "      <td>72.89</td>\n",
       "      <td>46</td>\n",
       "      <td>55.0</td>\n",
       "      <td>60</td>\n",
       "      <td>29</td>\n",
       "      <td>54</td>\n",
       "      <td>51</td>\n",
       "      <td>0</td>\n",
       "      <td>0</td>\n",
       "    </tr>\n",
       "    <tr>\n",
       "      <th>4</th>\n",
       "      <td>A</td>\n",
       "      <td>female</td>\n",
       "      <td>70.11</td>\n",
       "      <td>49</td>\n",
       "      <td>54.0</td>\n",
       "      <td>60</td>\n",
       "      <td>66</td>\n",
       "      <td>66</td>\n",
       "      <td>61</td>\n",
       "      <td>0</td>\n",
       "      <td>0</td>\n",
       "    </tr>\n",
       "  </tbody>\n",
       "</table>\n",
       "</div>"
      ],
      "text/plain": [
       "  class  gender    GPA  Algebra  TotleCalculus  Statistics  Probability  \\\n",
       "0     A    male  73.47       64           84.0          60           74   \n",
       "1     A  female  71.22       57           50.5          51           55   \n",
       "2     A  female  74.56       47           59.5          60           61   \n",
       "3     A  female  72.89       46           55.0          60           29   \n",
       "4     A  female  70.11       49           54.0          60           66   \n",
       "\n",
       "   Measure  Functional_analysis  cash_status  gradute  \n",
       "0       71                   60            3        0  \n",
       "1       62                   61            2        0  \n",
       "2       68                   64            0        1  \n",
       "3       54                   51            0        0  \n",
       "4       66                   61            0        0  "
      ]
     },
     "execution_count": 29,
     "metadata": {},
     "output_type": "execute_result"
    }
   ],
   "source": [
    "df.head()"
   ]
  },
  {
   "cell_type": "code",
   "execution_count": 30,
   "id": "cb6aa118",
   "metadata": {},
   "outputs": [],
   "source": [
    "# df.to_csv(\"Students Data Analysis New.csv\")"
   ]
  },
  {
   "cell_type": "markdown",
   "id": "3877c6ce",
   "metadata": {},
   "source": [
    "# Explore and Analysis Data"
   ]
  },
  {
   "cell_type": "code",
   "execution_count": 31,
   "id": "450832dd",
   "metadata": {},
   "outputs": [
    {
     "data": {
      "text/plain": [
       "count    105.000000\n",
       "mean      82.957048\n",
       "std        6.053187\n",
       "min       63.490000\n",
       "25%       79.340000\n",
       "50%       84.110000\n",
       "75%       87.300000\n",
       "max       93.710000\n",
       "Name: GPA, dtype: float64"
      ]
     },
     "execution_count": 31,
     "metadata": {},
     "output_type": "execute_result"
    }
   ],
   "source": [
    "df[\"GPA\"].describe()"
   ]
  },
  {
   "cell_type": "markdown",
   "id": "55852700",
   "metadata": {},
   "source": [
    "# Data is Normal or not (Out layer)"
   ]
  },
  {
   "cell_type": "code",
   "execution_count": 32,
   "id": "1465b53d",
   "metadata": {},
   "outputs": [
    {
     "data": {
      "text/plain": [
       "Text(0.5, 1.0, 'know data is normal or not')"
      ]
     },
     "execution_count": 32,
     "metadata": {},
     "output_type": "execute_result"
    },
    {
     "data": {
      "image/png": "[encoded data removed]",
      "text/plain": [
       "<Figure size 1080x576 with 1 Axes>"
      ]
     },
     "metadata": {
      "needs_background": "light"
     },
     "output_type": "display_data"
    }
   ],
   "source": [
    "plt.figure(figsize=(15, 8))\n",
    "df.boxplot();\n",
    "plt.title(\"know data is normal or not\" , color= \"black\" , fontstyle= \"italic\" , fontsize=  20)"
   ]
  },
  {
   "cell_type": "markdown",
   "id": "63fa0dc1",
   "metadata": {},
   "source": [
    "# Find a Relation Between Data"
   ]
  },
  {
   "cell_type": "code",
   "execution_count": 33,
   "id": "f4f326be",
   "metadata": {},
   "outputs": [
    {
     "data": {
      "text/plain": [
       "<AxesSubplot:>"
      ]
     },
     "execution_count": 33,
     "metadata": {},
     "output_type": "execute_result"
    },
    {
     "data": {
      "image/png": "[encoded data removed]",
      "text/plain": [
       "<Figure size 720x720 with 2 Axes>"
      ]
     },
     "metadata": {
      "needs_background": "light"
     },
     "output_type": "display_data"
    }
   ],
   "source": [
    "plt.figure(figsize=(10 ,10))\n",
    "sns.heatmap(df.corr() , annot=True , center= True)"
   ]
  },
  {
   "cell_type": "markdown",
   "id": "0987fa21",
   "metadata": {},
   "source": [
    "#  Q1: What is The Most Class have a Students?"
   ]
  },
  {
   "cell_type": "code",
   "execution_count": 34,
   "id": "58072885",
   "metadata": {},
   "outputs": [
    {
     "name": "stdout",
     "output_type": "stream",
     "text": [
      "A    76\n",
      "B    29\n",
      "Name: class, dtype: int64\n"
     ]
    },
    {
     "data": {
      "image/png": "[encoded data removed]",
      "text/plain": [
       "<Figure size 720x720 with 1 Axes>"
      ]
     },
     "metadata": {},
     "output_type": "display_data"
    }
   ],
   "source": [
    "index= df[\"class\"].value_counts().index\n",
    "values= df[\"class\"].value_counts().values\n",
    "\n",
    "plt.figure(figsize=(10, 10));\n",
    "print(df[\"class\"].value_counts())\n",
    "\n",
    "plt.title(\"Sorting Data by Class\")\n",
    "plt.pie(x= values , labels=  index ,  autopct= \"%1.1f%%\");\n",
    "\n",
    "plt.legend();"
   ]
  },
  {
   "cell_type": "markdown",
   "id": "b9c08310",
   "metadata": {},
   "source": [
    "# Q2: What is The Most Gender (F&M) in Dataset?"
   ]
  },
  {
   "cell_type": "code",
   "execution_count": 35,
   "id": "e520f947",
   "metadata": {},
   "outputs": [
    {
     "name": "stdout",
     "output_type": "stream",
     "text": [
      "female    68\n",
      "male      37\n",
      "Name: gender, dtype: int64\n"
     ]
    },
    {
     "data": {
      "image/png": "[encoded data removed]",
      "text/plain": [
       "<Figure size 720x720 with 1 Axes>"
      ]
     },
     "metadata": {},
     "output_type": "display_data"
    }
   ],
   "source": [
    "index= df[\"gender\"].value_counts().index\n",
    "values= df[\"gender\"].value_counts().values\n",
    "\n",
    "plt.figure(figsize=(10, 10));\n",
    "print(df[\"gender\"].value_counts())\n",
    "\n",
    "plt.title(\"Sorting Data by Gender\")\n",
    "plt.pie(x= values , labels=  index ,  autopct= \"%1.1f%%\");\n",
    "\n",
    "plt.legend();\n",
    "plt.show()"
   ]
  },
  {
   "cell_type": "markdown",
   "id": "4cf5db67",
   "metadata": {},
   "source": [
    "# Q3: Top GPA by Gender?"
   ]
  },
  {
   "cell_type": "code",
   "execution_count": 36,
   "id": "0940ffd4",
   "metadata": {
    "scrolled": false
   },
   "outputs": [
    {
     "data": {
      "image/png": "[encoded data removed]",
      "text/plain": [
       "<Figure size 720x720 with 1 Axes>"
      ]
     },
     "metadata": {},
     "output_type": "display_data"
    }
   ],
   "source": [
    "index= df.groupby(\"gender\").GPA.sum().index\n",
    "values= df.groupby(\"gender\").GPA.sum().values\n",
    "\n",
    "plt.figure(figsize=(10, 10));\n",
    "plt.pie(x= values , labels= index , autopct=\"%1.1f%%\")\n",
    "\n",
    "plt.legend()\n",
    "plt.show()"
   ]
  },
  {
   "cell_type": "code",
   "execution_count": 37,
   "id": "5a1cc360",
   "metadata": {},
   "outputs": [
    {
     "data": {
      "image/png": "[encoded data removed]",
      "text/plain": [
       "<Figure size 720x576 with 1 Axes>"
      ]
     },
     "metadata": {
      "needs_background": "light"
     },
     "output_type": "display_data"
    }
   ],
   "source": [
    "plt.figure(figsize=(10, 8))\n",
    "\n",
    "plt.bar(x= index , height=values)\n",
    "plt.title(\"The class with the highest score\" , fontsize=20 , fontstyle= \"italic\" );\n",
    "plt.xlabel(\"Gender\" , fontsize=20 , fontstyle= \"italic\" );\n",
    "\n",
    "for i in range(len(values)):\n",
    "    plt.text(i , values[i] , values[i] , ha='center',va='bottom')\n",
    "plt.show()"
   ]
  },
  {
   "cell_type": "code",
   "execution_count": 38,
   "id": "52a49003",
   "metadata": {},
   "outputs": [
    {
     "data": {
      "text/html": [
       "<div>\n",
       "<style scoped>\n",
       "    .dataframe tbody tr th:only-of-type {\n",
       "        vertical-align: middle;\n",
       "    }\n",
       "\n",
       "    .dataframe tbody tr th {\n",
       "        vertical-align: top;\n",
       "    }\n",
       "\n",
       "    .dataframe thead th {\n",
       "        text-align: right;\n",
       "    }\n",
       "</style>\n",
       "<table border=\"1\" class=\"dataframe\">\n",
       "  <thead>\n",
       "    <tr style=\"text-align: right;\">\n",
       "      <th></th>\n",
       "      <th>class</th>\n",
       "      <th>gender</th>\n",
       "      <th>GPA</th>\n",
       "      <th>Algebra</th>\n",
       "      <th>TotleCalculus</th>\n",
       "      <th>Statistics</th>\n",
       "      <th>Probability</th>\n",
       "      <th>Measure</th>\n",
       "      <th>Functional_analysis</th>\n",
       "      <th>cash_status</th>\n",
       "      <th>gradute</th>\n",
       "    </tr>\n",
       "  </thead>\n",
       "  <tbody>\n",
       "    <tr>\n",
       "      <th>0</th>\n",
       "      <td>A</td>\n",
       "      <td>male</td>\n",
       "      <td>73.47</td>\n",
       "      <td>64</td>\n",
       "      <td>84.0</td>\n",
       "      <td>60</td>\n",
       "      <td>74</td>\n",
       "      <td>71</td>\n",
       "      <td>60</td>\n",
       "      <td>3</td>\n",
       "      <td>0</td>\n",
       "    </tr>\n",
       "    <tr>\n",
       "      <th>1</th>\n",
       "      <td>A</td>\n",
       "      <td>female</td>\n",
       "      <td>71.22</td>\n",
       "      <td>57</td>\n",
       "      <td>50.5</td>\n",
       "      <td>51</td>\n",
       "      <td>55</td>\n",
       "      <td>62</td>\n",
       "      <td>61</td>\n",
       "      <td>2</td>\n",
       "      <td>0</td>\n",
       "    </tr>\n",
       "    <tr>\n",
       "      <th>2</th>\n",
       "      <td>A</td>\n",
       "      <td>female</td>\n",
       "      <td>74.56</td>\n",
       "      <td>47</td>\n",
       "      <td>59.5</td>\n",
       "      <td>60</td>\n",
       "      <td>61</td>\n",
       "      <td>68</td>\n",
       "      <td>64</td>\n",
       "      <td>0</td>\n",
       "      <td>1</td>\n",
       "    </tr>\n",
       "    <tr>\n",
       "      <th>3</th>\n",
       "      <td>A</td>\n",
       "      <td>female</td>\n",
       "      <td>72.89</td>\n",
       "      <td>46</td>\n",
       "      <td>55.0</td>\n",
       "      <td>60</td>\n",
       "      <td>29</td>\n",
       "      <td>54</td>\n",
       "      <td>51</td>\n",
       "      <td>0</td>\n",
       "      <td>0</td>\n",
       "    </tr>\n",
       "    <tr>\n",
       "      <th>4</th>\n",
       "      <td>A</td>\n",
       "      <td>female</td>\n",
       "      <td>70.11</td>\n",
       "      <td>49</td>\n",
       "      <td>54.0</td>\n",
       "      <td>60</td>\n",
       "      <td>66</td>\n",
       "      <td>66</td>\n",
       "      <td>61</td>\n",
       "      <td>0</td>\n",
       "      <td>0</td>\n",
       "    </tr>\n",
       "  </tbody>\n",
       "</table>\n",
       "</div>"
      ],
      "text/plain": [
       "  class  gender    GPA  Algebra  TotleCalculus  Statistics  Probability  \\\n",
       "0     A    male  73.47       64           84.0          60           74   \n",
       "1     A  female  71.22       57           50.5          51           55   \n",
       "2     A  female  74.56       47           59.5          60           61   \n",
       "3     A  female  72.89       46           55.0          60           29   \n",
       "4     A  female  70.11       49           54.0          60           66   \n",
       "\n",
       "   Measure  Functional_analysis  cash_status  gradute  \n",
       "0       71                   60            3        0  \n",
       "1       62                   61            2        0  \n",
       "2       68                   64            0        1  \n",
       "3       54                   51            0        0  \n",
       "4       66                   61            0        0  "
      ]
     },
     "execution_count": 38,
     "metadata": {},
     "output_type": "execute_result"
    }
   ],
   "source": [
    "df.head()"
   ]
  },
  {
   "cell_type": "markdown",
   "id": "e6fc5fd9",
   "metadata": {},
   "source": [
    "# Q3: Top GPA by Gender (10 Random Simples)?"
   ]
  },
  {
   "cell_type": "code",
   "execution_count": 41,
   "id": "5b5b8f51",
   "metadata": {},
   "outputs": [
    {
     "data": {
      "image/png": "[encoded data removed]",
      "text/plain": [
       "<Figure size 1008x648 with 1 Axes>"
      ]
     },
     "metadata": {
      "needs_background": "light"
     },
     "output_type": "display_data"
    }
   ],
   "source": [
    "female= df[df['gender'] == 'female'][:10]\n",
    "male= df[df['gender'] == 'male'][:10]\n",
    "\n",
    "f= female.groupby(\"gender\").GPA.sum()\n",
    "m= male.groupby(\"gender\").GPA.sum()\n",
    "\n",
    "plt.figure(figsize=(14, 9))\n",
    "plt.bar(x= f.index , height=f.values, label= 'female')\n",
    "plt.bar(x= m.index , height=m.values , label= 'male')\n",
    "\n",
    "plt.legend()\n",
    "\n",
    "plt.text(0 , f.values , f.values , ha= 'center' , va= 'bottom')\n",
    "\n",
    "plt.text(1 , m.values , m.values , ha= 'center' , va= 'bottom')\n",
    "    \n",
    "plt.show()"
   ]
  },
  {
   "cell_type": "markdown",
   "id": "a111383f",
   "metadata": {},
   "source": [
    "# Material stats"
   ]
  },
  {
   "cell_type": "code",
   "execution_count": 42,
   "id": "86d86b6d",
   "metadata": {},
   "outputs": [
    {
     "data": {
      "text/html": [
       "<div>\n",
       "<style scoped>\n",
       "    .dataframe tbody tr th:only-of-type {\n",
       "        vertical-align: middle;\n",
       "    }\n",
       "\n",
       "    .dataframe tbody tr th {\n",
       "        vertical-align: top;\n",
       "    }\n",
       "\n",
       "    .dataframe thead th {\n",
       "        text-align: right;\n",
       "    }\n",
       "</style>\n",
       "<table border=\"1\" class=\"dataframe\">\n",
       "  <thead>\n",
       "    <tr style=\"text-align: right;\">\n",
       "      <th></th>\n",
       "      <th>class</th>\n",
       "      <th>gender</th>\n",
       "      <th>GPA</th>\n",
       "      <th>Algebra</th>\n",
       "      <th>TotleCalculus</th>\n",
       "      <th>Statistics</th>\n",
       "      <th>Probability</th>\n",
       "      <th>Measure</th>\n",
       "      <th>Functional_analysis</th>\n",
       "      <th>cash_status</th>\n",
       "      <th>gradute</th>\n",
       "    </tr>\n",
       "  </thead>\n",
       "  <tbody>\n",
       "    <tr>\n",
       "      <th>0</th>\n",
       "      <td>A</td>\n",
       "      <td>male</td>\n",
       "      <td>73.47</td>\n",
       "      <td>64</td>\n",
       "      <td>84.0</td>\n",
       "      <td>60</td>\n",
       "      <td>74</td>\n",
       "      <td>71</td>\n",
       "      <td>60</td>\n",
       "      <td>3</td>\n",
       "      <td>0</td>\n",
       "    </tr>\n",
       "    <tr>\n",
       "      <th>1</th>\n",
       "      <td>A</td>\n",
       "      <td>female</td>\n",
       "      <td>71.22</td>\n",
       "      <td>57</td>\n",
       "      <td>50.5</td>\n",
       "      <td>51</td>\n",
       "      <td>55</td>\n",
       "      <td>62</td>\n",
       "      <td>61</td>\n",
       "      <td>2</td>\n",
       "      <td>0</td>\n",
       "    </tr>\n",
       "  </tbody>\n",
       "</table>\n",
       "</div>"
      ],
      "text/plain": [
       "  class  gender    GPA  Algebra  TotleCalculus  Statistics  Probability  \\\n",
       "0     A    male  73.47       64           84.0          60           74   \n",
       "1     A  female  71.22       57           50.5          51           55   \n",
       "\n",
       "   Measure  Functional_analysis  cash_status  gradute  \n",
       "0       71                   60            3        0  \n",
       "1       62                   61            2        0  "
      ]
     },
     "execution_count": 42,
     "metadata": {},
     "output_type": "execute_result"
    }
   ],
   "source": [
    "df.head(2)"
   ]
  },
  {
   "cell_type": "code",
   "execution_count": 43,
   "id": "8c046598",
   "metadata": {
    "scrolled": false
   },
   "outputs": [
    {
     "data": {
      "image/png": "[encoded data removed]",
      "text/plain": [
       "<Figure size 2160x1080 with 1 Axes>"
      ]
     },
     "metadata": {
      "needs_background": "light"
     },
     "output_type": "display_data"
    }
   ],
   "source": [
    "plt.figure(figsize=(30, 15));\n",
    "\n",
    "plt.bar(x= \"Algebra\" , height=df.Algebra.mean() , label= \"Algebra\" , color= \"#283747\")\n",
    "plt.text(0 , df.Algebra.mean() , df.Algebra.mean() , ha= 'center' , va= 'bottom' , fontsize= 20)\n",
    "\n",
    "plt.bar(x= \"Calculus\" , height=df.TotleCalculus.mean() , label= \"TotleCalculus\" , color= \"#5499C7\")\n",
    "plt.text(1 , df.TotleCalculus.mean() , df.TotleCalculus.mean() , ha= 'center' , va= 'bottom' , fontsize= 20)\n",
    "\n",
    "plt.bar(x= \"Statistics\" , height=df.Statistics.mean(), label= \"Statistics\", color= \"#D35400\")\n",
    "plt.text(2 , df.Statistics.mean() , df.Statistics.mean() , ha= 'center' , va= 'bottom' , fontsize= 20)\n",
    "\n",
    "plt.bar(x= \"Probability\" , height=df.Probability.mean(), label= \"Probability\", color= \"#E74C3C\")\n",
    "plt.text(3 , df.Probability.mean() , df.Probability.mean() , ha= 'center' , va= 'bottom' , fontsize= 20)\n",
    "\n",
    "plt.bar(x= \"Measure\" , height=df.Measure.mean(), label= \"Measure\", color= \"#F4D03F\")\n",
    "plt.text(4 , df.Measure.mean() , df.Measure.mean() , ha= 'center' , va= 'bottom' , fontsize= 20)\n",
    "\n",
    "plt.bar(x= \"Functional_analysis\" , height=df.Functional_analysis.mean(), label= \"Functional_analysis\", color= \"#8E44AD\")\n",
    "plt.text(5 , df.Functional_analysis.mean() , df.Functional_analysis.mean() , ha= 'center' , va= 'bottom' , fontsize= 20)\n",
    "\n",
    "plt.xticks(fontsize= 20)\n",
    "plt.title(\"Material stats\" , fontsize= 30 )\n",
    "\n",
    "plt.xlabel(\"Material\" , fontsize= 30 )\n",
    "\n",
    "plt.legend()\n",
    "\n",
    "plt.show()"
   ]
  },
  {
   "cell_type": "markdown",
   "id": "6a208ba0",
   "metadata": {},
   "source": [
    "# What is the Top 10 GPA From Female or male?"
   ]
  },
  {
   "cell_type": "code",
   "execution_count": 44,
   "id": "c4950e9c",
   "metadata": {},
   "outputs": [
    {
     "data": {
      "text/html": [
       "<div>\n",
       "<style scoped>\n",
       "    .dataframe tbody tr th:only-of-type {\n",
       "        vertical-align: middle;\n",
       "    }\n",
       "\n",
       "    .dataframe tbody tr th {\n",
       "        vertical-align: top;\n",
       "    }\n",
       "\n",
       "    .dataframe thead th {\n",
       "        text-align: right;\n",
       "    }\n",
       "</style>\n",
       "<table border=\"1\" class=\"dataframe\">\n",
       "  <thead>\n",
       "    <tr style=\"text-align: right;\">\n",
       "      <th></th>\n",
       "      <th>class</th>\n",
       "      <th>gender</th>\n",
       "      <th>GPA</th>\n",
       "      <th>Algebra</th>\n",
       "      <th>TotleCalculus</th>\n",
       "      <th>Statistics</th>\n",
       "      <th>Probability</th>\n",
       "      <th>Measure</th>\n",
       "      <th>Functional_analysis</th>\n",
       "      <th>cash_status</th>\n",
       "      <th>gradute</th>\n",
       "    </tr>\n",
       "  </thead>\n",
       "  <tbody>\n",
       "    <tr>\n",
       "      <th>0</th>\n",
       "      <td>A</td>\n",
       "      <td>male</td>\n",
       "      <td>73.47</td>\n",
       "      <td>64</td>\n",
       "      <td>84.0</td>\n",
       "      <td>60</td>\n",
       "      <td>74</td>\n",
       "      <td>71</td>\n",
       "      <td>60</td>\n",
       "      <td>3</td>\n",
       "      <td>0</td>\n",
       "    </tr>\n",
       "    <tr>\n",
       "      <th>1</th>\n",
       "      <td>A</td>\n",
       "      <td>female</td>\n",
       "      <td>71.22</td>\n",
       "      <td>57</td>\n",
       "      <td>50.5</td>\n",
       "      <td>51</td>\n",
       "      <td>55</td>\n",
       "      <td>62</td>\n",
       "      <td>61</td>\n",
       "      <td>2</td>\n",
       "      <td>0</td>\n",
       "    </tr>\n",
       "    <tr>\n",
       "      <th>2</th>\n",
       "      <td>A</td>\n",
       "      <td>female</td>\n",
       "      <td>74.56</td>\n",
       "      <td>47</td>\n",
       "      <td>59.5</td>\n",
       "      <td>60</td>\n",
       "      <td>61</td>\n",
       "      <td>68</td>\n",
       "      <td>64</td>\n",
       "      <td>0</td>\n",
       "      <td>1</td>\n",
       "    </tr>\n",
       "    <tr>\n",
       "      <th>3</th>\n",
       "      <td>A</td>\n",
       "      <td>female</td>\n",
       "      <td>72.89</td>\n",
       "      <td>46</td>\n",
       "      <td>55.0</td>\n",
       "      <td>60</td>\n",
       "      <td>29</td>\n",
       "      <td>54</td>\n",
       "      <td>51</td>\n",
       "      <td>0</td>\n",
       "      <td>0</td>\n",
       "    </tr>\n",
       "    <tr>\n",
       "      <th>4</th>\n",
       "      <td>A</td>\n",
       "      <td>female</td>\n",
       "      <td>70.11</td>\n",
       "      <td>49</td>\n",
       "      <td>54.0</td>\n",
       "      <td>60</td>\n",
       "      <td>66</td>\n",
       "      <td>66</td>\n",
       "      <td>61</td>\n",
       "      <td>0</td>\n",
       "      <td>0</td>\n",
       "    </tr>\n",
       "  </tbody>\n",
       "</table>\n",
       "</div>"
      ],
      "text/plain": [
       "  class  gender    GPA  Algebra  TotleCalculus  Statistics  Probability  \\\n",
       "0     A    male  73.47       64           84.0          60           74   \n",
       "1     A  female  71.22       57           50.5          51           55   \n",
       "2     A  female  74.56       47           59.5          60           61   \n",
       "3     A  female  72.89       46           55.0          60           29   \n",
       "4     A  female  70.11       49           54.0          60           66   \n",
       "\n",
       "   Measure  Functional_analysis  cash_status  gradute  \n",
       "0       71                   60            3        0  \n",
       "1       62                   61            2        0  \n",
       "2       68                   64            0        1  \n",
       "3       54                   51            0        0  \n",
       "4       66                   61            0        0  "
      ]
     },
     "execution_count": 44,
     "metadata": {},
     "output_type": "execute_result"
    }
   ],
   "source": [
    "df.head()"
   ]
  },
  {
   "cell_type": "code",
   "execution_count": 45,
   "id": "4e88d0a3",
   "metadata": {},
   "outputs": [
    {
     "data": {
      "text/html": [
       "<div>\n",
       "<style scoped>\n",
       "    .dataframe tbody tr th:only-of-type {\n",
       "        vertical-align: middle;\n",
       "    }\n",
       "\n",
       "    .dataframe tbody tr th {\n",
       "        vertical-align: top;\n",
       "    }\n",
       "\n",
       "    .dataframe thead th {\n",
       "        text-align: right;\n",
       "    }\n",
       "</style>\n",
       "<table border=\"1\" class=\"dataframe\">\n",
       "  <thead>\n",
       "    <tr style=\"text-align: right;\">\n",
       "      <th></th>\n",
       "      <th>Algebra</th>\n",
       "      <th>Gender</th>\n",
       "    </tr>\n",
       "  </thead>\n",
       "  <tbody>\n",
       "    <tr>\n",
       "      <th>101</th>\n",
       "      <td>98</td>\n",
       "      <td>male</td>\n",
       "    </tr>\n",
       "    <tr>\n",
       "      <th>97</th>\n",
       "      <td>98</td>\n",
       "      <td>male</td>\n",
       "    </tr>\n",
       "    <tr>\n",
       "      <th>65</th>\n",
       "      <td>95</td>\n",
       "      <td>male</td>\n",
       "    </tr>\n",
       "    <tr>\n",
       "      <th>75</th>\n",
       "      <td>95</td>\n",
       "      <td>female</td>\n",
       "    </tr>\n",
       "    <tr>\n",
       "      <th>87</th>\n",
       "      <td>95</td>\n",
       "      <td>female</td>\n",
       "    </tr>\n",
       "    <tr>\n",
       "      <th>84</th>\n",
       "      <td>94</td>\n",
       "      <td>female</td>\n",
       "    </tr>\n",
       "    <tr>\n",
       "      <th>96</th>\n",
       "      <td>94</td>\n",
       "      <td>male</td>\n",
       "    </tr>\n",
       "    <tr>\n",
       "      <th>104</th>\n",
       "      <td>93</td>\n",
       "      <td>male</td>\n",
       "    </tr>\n",
       "    <tr>\n",
       "      <th>58</th>\n",
       "      <td>93</td>\n",
       "      <td>female</td>\n",
       "    </tr>\n",
       "    <tr>\n",
       "      <th>93</th>\n",
       "      <td>93</td>\n",
       "      <td>female</td>\n",
       "    </tr>\n",
       "  </tbody>\n",
       "</table>\n",
       "</div>"
      ],
      "text/plain": [
       "     Algebra  Gender\n",
       "101       98    male\n",
       "97        98    male\n",
       "65        95    male\n",
       "75        95  female\n",
       "87        95  female\n",
       "84        94  female\n",
       "96        94    male\n",
       "104       93    male\n",
       "58        93  female\n",
       "93        93  female"
      ]
     },
     "execution_count": 45,
     "metadata": {},
     "output_type": "execute_result"
    }
   ],
   "source": [
    "Top = pd.DataFrame(df.Algebra.sort_values(ascending=False)[:10])\n",
    "Top[\"Gender\"] = df.gender\n",
    "\n",
    "Top"
   ]
  },
  {
   "cell_type": "code",
   "execution_count": 46,
   "id": "89b3b7f7",
   "metadata": {},
   "outputs": [
    {
     "name": "stdout",
     "output_type": "stream",
     "text": [
      "female    68\n",
      "male      37\n",
      "Name: gender, dtype: int64\n",
      "Gender\n",
      "female    470\n",
      "male      478\n",
      "Name: Algebra, dtype: int64\n"
     ]
    },
    {
     "data": {
      "image/png": "[encoded data removed]",
      "text/plain": [
       "<Figure size 720x720 with 1 Axes>"
      ]
     },
     "metadata": {},
     "output_type": "display_data"
    }
   ],
   "source": [
    "index= Top.groupby(\"Gender\").Algebra.sum().index\n",
    "values= Top.groupby(\"Gender\").Algebra.sum().values\n",
    "\n",
    "plt.figure(figsize=(10, 10));\n",
    "print(df[\"gender\"].value_counts())\n",
    "print(Top.groupby(\"Gender\").Algebra.sum())\n",
    "plt.title(\"Sorting Data by Gender\")\n",
    "plt.pie(x= values , labels=  index ,  autopct= \"%1.1f%%\");\n",
    "\n",
    "plt.legend();\n",
    "plt.show()"
   ]
  },
  {
   "cell_type": "code",
   "execution_count": 47,
   "id": "e6a512e0",
   "metadata": {},
   "outputs": [
    {
     "data": {
      "text/plain": [
       "<matplotlib.collections.PathCollection at 0x1aab85a2a60>"
      ]
     },
     "execution_count": 47,
     "metadata": {},
     "output_type": "execute_result"
    },
    {
     "data": {
      "image/png": "[encoded data removed]",
      "text/plain": [
       "<Figure size 1008x576 with 1 Axes>"
      ]
     },
     "metadata": {
      "needs_background": "light"
     },
     "output_type": "display_data"
    }
   ],
   "source": [
    "plt.figure(figsize=(14, 8))\n",
    "\n",
    "plt.title(\"Relation Between cash_status and Gradution\" , fontsize= 20)\n",
    "plt.scatter(df.cash_status , df.gradute)"
   ]
  },
  {
   "cell_type": "code",
   "execution_count": null,
   "id": "1f075b27",
   "metadata": {},
   "outputs": [],
   "source": []
  },
  {
   "cell_type": "code",
   "execution_count": null,
   "id": "8e397ad1",
   "metadata": {},
   "outputs": [],
   "source": []
  }
 ],
 "metadata": {
  "kernelspec": {
   "display_name": "Python 3 (ipykernel)",
   "language": "python",
   "name": "python3"
  },
  "language_info": {
   "codemirror_mode": {
    "name": "ipython",
    "version": 3
   },
   "file_extension": ".py",
   "mimetype": "text/x-python",
   "name": "python",
   "nbconvert_exporter": "python",
   "pygments_lexer": "ipython3",
   "version": "3.9.7"
  }
 },
 "nbformat": 4,
 "nbformat_minor": 5
}
